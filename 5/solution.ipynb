{
 "cells": [
  {
   "cell_type": "markdown",
   "metadata": {},
   "source": [
    "### Part 1"
   ]
  },
  {
   "cell_type": "code",
   "execution_count": 1,
   "metadata": {},
   "outputs": [],
   "source": [
    "steps = open('steps.txt').read().split('\\n')"
   ]
  },
  {
   "cell_type": "code",
   "execution_count": 2,
   "metadata": {},
   "outputs": [],
   "source": [
    "# I'm gonna create stack by hand\n",
    "# it's not cheating, it's pragmatism\n",
    "\n",
    "#                     [Q]     [P] [P]\n",
    "#                 [G] [V] [S] [Z] [F]\n",
    "#             [W] [V] [F] [Z] [W] [Q]\n",
    "#         [V] [T] [N] [J] [W] [B] [W]\n",
    "#     [Z] [L] [V] [B] [C] [R] [N] [M]\n",
    "# [C] [W] [R] [H] [H] [P] [T] [M] [B]\n",
    "# [Q] [Q] [M] [Z] [Z] [N] [G] [G] [J]\n",
    "# [B] [R] [B] [C] [D] [H] [D] [C] [N]\n",
    "#  1   2   3   4   5   6   7   8   9\n",
    "\n",
    "#           Q   P P\n",
    "#         G V S Z F\n",
    "#       W V F Z W Q\n",
    "#     V T N J W B W\n",
    "#   Z L V B C R N M\n",
    "# C W R H H P T M B\n",
    "# Q Q M Z Z N G G J\n",
    "# B R B C D H D C N\n",
    "# 1 2 3 4 5 6 7 8 9\n",
    "\n",
    "def create_stacks():\n",
    "  stacks = []\n",
    "\n",
    "  stacks.append([\"C\", \"Q\", \"B\"][::-1])\n",
    "\n",
    "  stacks.append(\n",
    "      [\n",
    "          \"Z\",\n",
    "          \"W\",\n",
    "          \"Q\",\n",
    "          \"R\",\n",
    "      ][::-1]\n",
    "  )\n",
    "\n",
    "  stacks.append(\n",
    "      [\n",
    "          \"V\",\n",
    "          \"L\",\n",
    "          \"R\",\n",
    "          \"M\",\n",
    "          \"B\",\n",
    "      ][::-1]\n",
    "  )\n",
    "\n",
    "  stacks.append(\n",
    "      [\n",
    "          \"W\",\n",
    "          \"T\",\n",
    "          \"V\",\n",
    "          \"H\",\n",
    "          \"Z\",\n",
    "          \"C\",\n",
    "      ][::-1]\n",
    "  )\n",
    "\n",
    "  stacks.append(\n",
    "      [\n",
    "          \"G\",\n",
    "          \"V\",\n",
    "          \"N\",\n",
    "          \"B\",\n",
    "          \"H\",\n",
    "          \"Z\",\n",
    "          \"D\",\n",
    "      ][::-1]\n",
    "  )\n",
    "\n",
    "  stacks.append(\n",
    "      [\n",
    "          \"Q\",\n",
    "          \"V\",\n",
    "          \"F\",\n",
    "          \"J\",\n",
    "          \"C\",\n",
    "          \"P\",\n",
    "          \"N\",\n",
    "          \"H\",\n",
    "      ][::-1]\n",
    "  )\n",
    "\n",
    "  stacks.append(\n",
    "      [\n",
    "          \"S\",\n",
    "          \"Z\",\n",
    "          \"W\",\n",
    "          \"R\",\n",
    "          \"T\",\n",
    "          \"G\",\n",
    "          \"D\",\n",
    "      ][::-1]\n",
    "  )\n",
    "\n",
    "  stacks.append(\n",
    "      [\n",
    "          \"P\",\n",
    "          \"Z\",\n",
    "          \"W\",\n",
    "          \"B\",\n",
    "          \"N\",\n",
    "          \"M\",\n",
    "          \"G\",\n",
    "          \"C\",\n",
    "      ][::-1]\n",
    "  )\n",
    "\n",
    "  stacks.append(\n",
    "      [\n",
    "          \"P\",\n",
    "          \"F\",\n",
    "          \"Q\",\n",
    "          \"W\",\n",
    "          \"M\",\n",
    "          \"B\",\n",
    "          \"J\",\n",
    "          \"N\",\n",
    "      ][::-1]\n",
    "  )\n",
    "\n",
    "  return stacks\n",
    "\n",
    "stacks = create_stacks()"
   ]
  },
  {
   "cell_type": "code",
   "execution_count": 3,
   "metadata": {},
   "outputs": [],
   "source": [
    "for step in steps:\n",
    "    step_values = (\n",
    "        step.replace(\"move \", \" \")\n",
    "        .replace(\" from \", \" \")\n",
    "        .replace(\" to \", \" \")\n",
    "        .strip()\n",
    "        .split(\" \")\n",
    "    )\n",
    "    how_many, where_from, where_to = map(int, step_values)\n",
    "    for _ in range(0, how_many):\n",
    "      stacks[where_to - 1].append(stacks[where_from - 1].pop())\n"
   ]
  },
  {
   "cell_type": "code",
   "execution_count": 4,
   "metadata": {},
   "outputs": [
    {
     "name": "stdout",
     "output_type": "stream",
     "text": [
      "B\n",
      "W\n",
      "N\n",
      "C\n",
      "Q\n",
      "R\n",
      "M\n",
      "D\n",
      "B\n"
     ]
    }
   ],
   "source": [
    "for stack in stacks:\n",
    "  print(stack[len(stack) - 1])"
   ]
  },
  {
   "cell_type": "markdown",
   "metadata": {},
   "source": [
    "### Part 2"
   ]
  },
  {
   "cell_type": "code",
   "execution_count": 5,
   "metadata": {},
   "outputs": [],
   "source": [
    "stacks = create_stacks()"
   ]
  },
  {
   "cell_type": "code",
   "execution_count": 8,
   "metadata": {},
   "outputs": [
    {
     "data": {
      "text/plain": [
       "[['N'],\n",
       " ['V', 'C', 'F', 'V', 'V', 'W', 'H', 'P', 'B', 'R', 'H'],\n",
       " ['M', 'W', 'J', 'N', 'P', 'B', 'B', 'G', 'D', 'Z', 'R', 'C', 'Z', 'W'],\n",
       " ['Z'],\n",
       " ['C'],\n",
       " ['M', 'G', 'L', 'P', 'Q', 'Q', 'T', 'R', 'M', 'Z', 'T', 'B'],\n",
       " ['W', 'W', 'G', 'N'],\n",
       " ['C', 'J', 'S', 'B'],\n",
       " ['N', 'H', 'V', 'Q', 'Q', 'D', 'Z', 'F']]"
      ]
     },
     "execution_count": 8,
     "metadata": {},
     "output_type": "execute_result"
    }
   ],
   "source": [
    "for step in steps:\n",
    "    step_values = (\n",
    "        step.replace(\"move \", \" \")\n",
    "        .replace(\" from \", \" \")\n",
    "        .replace(\" to \", \" \")\n",
    "        .strip()\n",
    "        .split(\" \")\n",
    "    )\n",
    "    how_many, where_from, where_to = map(int, step_values)\n",
    "    containers = stacks[where_from - 1][-how_many:]\n",
    "    stacks[where_to - 1].extend(containers)\n",
    "    stacks[where_from - 1] = stacks[where_from - 1][:-how_many]\n",
    "\n",
    "stacks"
   ]
  },
  {
   "cell_type": "code",
   "execution_count": 9,
   "metadata": {},
   "outputs": [
    {
     "name": "stdout",
     "output_type": "stream",
     "text": [
      "N\n",
      "H\n",
      "W\n",
      "Z\n",
      "C\n",
      "B\n",
      "N\n",
      "B\n",
      "F\n"
     ]
    }
   ],
   "source": [
    "for stack in stacks:\n",
    "  print(stack[len(stack) - 1])"
   ]
  }
 ],
 "metadata": {
  "kernelspec": {
   "display_name": "Python 3.10.8 64-bit",
   "language": "python",
   "name": "python3"
  },
  "language_info": {
   "codemirror_mode": {
    "name": "ipython",
    "version": 3
   },
   "file_extension": ".py",
   "mimetype": "text/x-python",
   "name": "python",
   "nbconvert_exporter": "python",
   "pygments_lexer": "ipython3",
   "version": "3.10.8"
  },
  "orig_nbformat": 4,
  "vscode": {
   "interpreter": {
    "hash": "7d6993cb2f9ce9a59d5d7380609d9cb5192a9dedd2735a011418ad9e827eb538"
   }
  }
 },
 "nbformat": 4,
 "nbformat_minor": 2
}
